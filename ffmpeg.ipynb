{
  "nbformat": 4,
  "nbformat_minor": 0,
  "metadata": {
    "colab": {
      "name": "ffmpeg.ipynb",
      "version": "0.3.2",
      "provenance": [],
      "include_colab_link": true
    },
    "kernelspec": {
      "name": "python3",
      "display_name": "Python 3"
    },
    "accelerator": "GPU"
  },
  "cells": [
    {
      "cell_type": "markdown",
      "metadata": {
        "id": "view-in-github",
        "colab_type": "text"
      },
      "source": [
        "[View in Colaboratory](https://colab.research.google.com/github/opencoca/notebooks/blob/master/ffmpeg.ipynb)"
      ]
    },
    {
      "metadata": {
        "id": "3Sbb0l02QXXr",
        "colab_type": "code",
        "colab": {}
      },
      "cell_type": "code",
      "source": [
        ""
      ],
      "execution_count": 0,
      "outputs": []
    },
    {
      "metadata": {
        "id": "LaOlvuCEcb97",
        "colab_type": "code",
        "colab": {},
        "cellView": "form"
      },
      "cell_type": "code",
      "source": [
        "#@title Setup Google Drive FUSE\n",
        "!apt-get update  -qq > /dev/null\n",
        "!apt-get install -y -qq software-properties-common python-software-properties module-init-tools > /dev/null\n",
        "!add-apt-repository -y ppa:alessandro-strada/ppa 2>&1 > /dev/null\n",
        "!apt-get update -qq 2>&1  > /dev/null\n",
        "!apt-get -y install -qq google-drive-ocamlfuse fuse > /dev/null\n",
        "from google.colab import auth\n",
        "auth.authenticate_user()\n",
        "from oauth2client.client import GoogleCredentials\n",
        "creds = GoogleCredentials.get_application_default()\n",
        "import getpass\n",
        "!google-drive-ocamlfuse -headless -id={creds.client_id} -secret={creds.client_secret} < /dev/null 2>&1 | grep URL\n",
        "vcode = getpass.getpass()\n",
        "!echo {vcode} | google-drive-ocamlfuse -headless -id={creds.client_id} -secret={creds.client_secret}\n",
        "\n",
        "!mkdir -p drive\n",
        "!google-drive-ocamlfuse drive\n"
      ],
      "execution_count": 0,
      "outputs": []
    },
    {
      "metadata": {
        "id": "z-8wrgVTQSUM",
        "colab_type": "code",
        "colab": {
          "base_uri": "https://localhost:8080/",
          "height": 36
        },
        "cellView": "form",
        "outputId": "aa34d122-c1a8-4fe5-f0d4-6e2d23d24dcc"
      },
      "cell_type": "code",
      "source": [
        "#@title Setup FFPEG and Libraries\n",
        "!apt-get update > /dev/null && \\\n",
        "    apt-get -qqy install --no-install-recommends \\\n",
        "        autoconf \\\n",
        "        automake \\\n",
        "        build-essential \\\n",
        "        ca-certificates \\\n",
        "        git \\\n",
        "        mercurial \\\n",
        "        cmake \\\n",
        "        libass-dev \\\n",
        "        libgpac-dev \\\n",
        "        libtheora-dev \\\n",
        "        libtool \\\n",
        "        libvdpau-dev \\\n",
        "        libvorbis-dev \\\n",
        "        pkg-config \\\n",
        "        texi2html \\\n",
        "        zlib1g-dev \\\n",
        "        libmp3lame-dev \\\n",
        "        wget \\\n",
        "        nasm \\\n",
        "        python3-software-properties\\\n",
        "        software-properties-common \\\n",
        "        yasm \\\n",
        "        ffmpeg > /dev/null && \\\n",
        "    apt-get -qqy clean && \\\n",
        "    rm -rf /var/lib/apt/lists/*\n",
        "\n",
        "## ffmpeg make setup\n",
        "#!rm -f setup.sh\n",
        "#!wget https://gist.githubusercontent.com/outofpapaer/b0cd8aaee58d73376547fdb1ef8b8c8b/raw/195d5d04e479c10650347be454a9eed2fa0b4a75/setup.sh\n",
        "#!chmod +x setup.sh\n",
        "\n",
        "## Build ffmpeg\n",
        "#!./setup.sh"
      ],
      "execution_count": 2,
      "outputs": [
        {
          "output_type": "stream",
          "text": [
            "Extracting templates from packages: 100%\n"
          ],
          "name": "stdout"
        }
      ]
    },
    {
      "metadata": {
        "id": "g2D_iavSXY4f",
        "colab_type": "code",
        "colab": {
          "base_uri": "https://localhost:8080/",
          "height": 265
        },
        "outputId": "c958b5e3-3b96-4b38-cc8b-bf265e594373"
      },
      "cell_type": "code",
      "source": [
        "!ffmpeg -version"
      ],
      "execution_count": 18,
      "outputs": [
        {
          "output_type": "stream",
          "text": [
            "ffmpeg version 3.3.4-2 Copyright (c) 2000-2017 the FFmpeg developers\n",
            "built with gcc 7 (Ubuntu 7.2.0-8ubuntu2)\n",
            "configuration: --prefix=/usr --extra-version=2 --toolchain=hardened --libdir=/usr/lib/x86_64-linux-gnu --incdir=/usr/include/x86_64-linux-gnu --enable-gpl --disable-stripping --enable-avresample --enable-avisynth --enable-gnutls --enable-ladspa --enable-libass --enable-libbluray --enable-libbs2b --enable-libcaca --enable-libcdio --enable-libflite --enable-libfontconfig --enable-libfreetype --enable-libfribidi --enable-libgme --enable-libgsm --enable-libmp3lame --enable-libopenjpeg --enable-libopenmpt --enable-libopus --enable-libpulse --enable-librubberband --enable-libshine --enable-libsnappy --enable-libsoxr --enable-libspeex --enable-libssh --enable-libtheora --enable-libtwolame --enable-libvorbis --enable-libvpx --enable-libwavpack --enable-libwebp --enable-libx265 --enable-libxvid --enable-libzmq --enable-libzvbi --enable-omx --enable-openal --enable-opengl --enable-sdl2 --enable-libdc1394 --enable-libiec61883 --enable-chromaprint --enable-frei0r --enable-libopencv --enable-libx264 --enable-shared\n",
            "libavutil      55. 58.100 / 55. 58.100\n",
            "libavcodec     57. 89.100 / 57. 89.100\n",
            "libavformat    57. 71.100 / 57. 71.100\n",
            "libavdevice    57.  6.100 / 57.  6.100\n",
            "libavfilter     6. 82.100 /  6. 82.100\n",
            "libavresample   3.  5.  0 /  3.  5.  0\n",
            "libswscale      4.  6.100 /  4.  6.100\n",
            "libswresample   2.  7.100 /  2.  7.100\n",
            "libpostproc    54.  5.100 / 54.  5.100\n"
          ],
          "name": "stdout"
        }
      ]
    },
    {
      "metadata": {
        "id": "2r_kejSvcuhT",
        "colab_type": "code",
        "colab": {
          "base_uri": "https://localhost:8080/",
          "height": 93
        },
        "outputId": "553eb53a-62cb-469d-99c8-e31fc2b8a461"
      },
      "cell_type": "code",
      "source": [
        "!wget http://hz.imslp.info/files/imglnks/usimg/8/82/IMSLP474372-PMLP02311-Nocturne_Op._15_no._1_in_F_major.mp3\n",
        "!wget https://source.unsplash.com/collection/851614/1600x900 -O ./bloom.jpg"
      ],
      "execution_count": 11,
      "outputs": [
        {
          "output_type": "stream",
          "text": [
            "\n",
            "Redirecting output to ‘wget-log.2’.\n",
            "\n",
            "Redirecting output to ‘wget-log.3’.\n"
          ],
          "name": "stdout"
        }
      ]
    },
    {
      "metadata": {
        "id": "Qsy8wtktX8f7",
        "colab_type": "code",
        "colab": {
          "base_uri": "https://localhost:8080/",
          "height": 1348
        },
        "outputId": "0360f6f5-dcd3-4190-ac1e-d1c6b5ef84d0"
      },
      "cell_type": "code",
      "source": [
        "!ffmpeg -loop 1 -i bloom.jpg -i IMSLP474372-PMLP02311-Nocturne_Op._15_no._1_in_F_major.mp3 -c:v libx264 -c:a copy -shortest out.mp4"
      ],
      "execution_count": 22,
      "outputs": [
        {
          "output_type": "stream",
          "text": [
            "ffmpeg version 3.3.4-2 Copyright (c) 2000-2017 the FFmpeg developers\n",
            "  built with gcc 7 (Ubuntu 7.2.0-8ubuntu2)\n",
            "  configuration: --prefix=/usr --extra-version=2 --toolchain=hardened --libdir=/usr/lib/x86_64-linux-gnu --incdir=/usr/include/x86_64-linux-gnu --enable-gpl --disable-stripping --enable-avresample --enable-avisynth --enable-gnutls --enable-ladspa --enable-libass --enable-libbluray --enable-libbs2b --enable-libcaca --enable-libcdio --enable-libflite --enable-libfontconfig --enable-libfreetype --enable-libfribidi --enable-libgme --enable-libgsm --enable-libmp3lame --enable-libopenjpeg --enable-libopenmpt --enable-libopus --enable-libpulse --enable-librubberband --enable-libshine --enable-libsnappy --enable-libsoxr --enable-libspeex --enable-libssh --enable-libtheora --enable-libtwolame --enable-libvorbis --enable-libvpx --enable-libwavpack --enable-libwebp --enable-libx265 --enable-libxvid --enable-libzmq --enable-libzvbi --enable-omx --enable-openal --enable-opengl --enable-sdl2 --enable-libdc1394 --enable-libiec61883 --enable-chromaprint --enable-frei0r --enable-libopencv --enable-libx264 --enable-shared\n",
            "  libavutil      55. 58.100 / 55. 58.100\n",
            "  libavcodec     57. 89.100 / 57. 89.100\n",
            "  libavformat    57. 71.100 / 57. 71.100\n",
            "  libavdevice    57.  6.100 / 57.  6.100\n",
            "  libavfilter     6. 82.100 /  6. 82.100\n",
            "  libavresample   3.  5.  0 /  3.  5.  0\n",
            "  libswscale      4.  6.100 /  4.  6.100\n",
            "  libswresample   2.  7.100 /  2.  7.100\n",
            "  libpostproc    54.  5.100 / 54.  5.100\n",
            "Input #0, image2, from 'bloom.jpg':\n",
            "  Duration: 00:00:00.04, start: 0.000000, bitrate: 58800 kb/s\n",
            "    Stream #0:0: Video: mjpeg, yuvj420p(pc, bt470bg/unknown/unknown), 1600x900 [SAR 72:72 DAR 16:9], 25 fps, 25 tbr, 25 tbn, 25 tbc\n",
            "Input #1, mp3, from 'IMSLP474372-PMLP02311-Nocturne_Op._15_no._1_in_F_major.mp3':\n",
            "  Metadata:\n",
            "    comment         : ﻿https://archive.org/details/musopen-chopi\n",
            "    album           : Musopen: The Complete Works of Frédéric Chopin\n",
            "    album_artist    : Frédéric Chopin\n",
            "    title           : Nocturne, Op. 15 No. 1 in F major\n",
            "    genre           : Classical\n",
            "    artist          : Luke Faulkner\n",
            "  Duration: 00:05:05.53, start: 0.025057, bitrate: 130 kb/s\n",
            "    Stream #1:0: Audio: mp3, 44100 Hz, stereo, s16p, 130 kb/s\n",
            "    Metadata:\n",
            "      encoder         : LAME3.99r\n",
            "    Side data:\n",
            "      replaygain: track gain - 0.500000, track peak - unknown, album gain - unknown, album peak - unknown, \n",
            "Stream mapping:\n",
            "  Stream #0:0 -> #0:0 (mjpeg (native) -> h264 (libx264))\n",
            "  Stream #1:0 -> #0:1 (copy)\n",
            "Press [q] to stop, [?] for help\n",
            "\u001b[0;33mNo pixel format specified, yuvj420p for H.264 encoding chosen.\n",
            "Use -pix_fmt yuv420p for compatibility with outdated media players.\n",
            "\u001b[0m\u001b[1;36m[libx264 @ 0x55a650a0e500] \u001b[0musing SAR=1/1\n",
            "\u001b[1;36m[libx264 @ 0x55a650a0e500] \u001b[0musing cpu capabilities: MMX2 SSE2Fast SSSE3 SSE4.2 AVX FMA3 AVX2 LZCNT BMI2\n",
            "\u001b[1;36m[libx264 @ 0x55a650a0e500] \u001b[0mprofile High, level 4.0\n",
            "\u001b[1;36m[libx264 @ 0x55a650a0e500] \u001b[0m264 - core 148 r2795 aaa9aa8 - H.264/MPEG-4 AVC codec - Copyleft 2003-2017 - http://www.videolan.org/x264.html - options: cabac=1 ref=3 deblock=1:0:0 analyse=0x3:0x113 me=hex subme=7 psy=1 psy_rd=1.00:0.00 mixed_ref=1 me_range=16 chroma_me=1 trellis=1 8x8dct=1 cqm=0 deadzone=21,11 fast_pskip=1 chroma_qp_offset=-2 threads=3 lookahead_threads=1 sliced_threads=0 nr=0 decimate=1 interlaced=0 bluray_compat=0 constrained_intra=0 bframes=3 b_pyramid=2 b_adapt=1 b_bias=0 direct=1 weightb=1 open_gop=0 weightp=2 keyint=250 keyint_min=25 scenecut=40 intra_refresh=0 rc_lookahead=40 rc=crf mbtree=1 crf=23.0 qcomp=0.60 qpmin=0 qpmax=69 qpstep=4 ip_ratio=1.40 aq=1:1.00\n",
            "Output #0, mp4, to 'out.mp4':\n",
            "  Metadata:\n",
            "    encoder         : Lavf57.71.100\n",
            "    Stream #0:0: Video: h264 (libx264) ([33][0][0][0] / 0x0021), yuvj420p(pc), 1600x900 [SAR 72:72 DAR 16:9], q=-1--1, 25 fps, 12800 tbn, 25 tbc\n",
            "    Metadata:\n",
            "      encoder         : Lavc57.89.100 libx264\n",
            "    Side data:\n",
            "      cpb: bitrate max/min/avg: 0/0/0 buffer size: 0 vbv_delay: -1\n",
            "    Stream #0:1: Audio: mp3 (i[0][0][0] / 0x0069), 44100 Hz, stereo, s16p, 130 kb/s\n",
            "    Metadata:\n",
            "      encoder         : LAME3.99r\n",
            "    Side data:\n",
            "      replaygain: track gain - 0.500000, track peak - unknown, album gain - unknown, album peak - unknown, \n",
            "frame= 7687 fps= 30 q=28.0 Lsize=   14997kB time=00:05:05.48 bitrate= 402.2kbits/s speed=1.19x    \n",
            "video:9855kB audio:4862kB subtitle:0kB other streams:0kB global headers:0kB muxing overhead: 1.902425%\n",
            "\u001b[1;36m[libx264 @ 0x55a650a0e500] \u001b[0mframe I:31    Avg QP:14.24  size:310845\n",
            "\u001b[1;36m[libx264 @ 0x55a650a0e500] \u001b[0mframe P:1937  Avg QP:18.99  size:    87\n",
            "\u001b[1;36m[libx264 @ 0x55a650a0e500] \u001b[0mframe B:5719  Avg QP:25.33  size:    50\n",
            "\u001b[1;36m[libx264 @ 0x55a650a0e500] \u001b[0mconsecutive B-frames:  0.8%  0.0%  0.0% 99.2%\n",
            "\u001b[1;36m[libx264 @ 0x55a650a0e500] \u001b[0mmb I  I16..4:  0.0% 98.2%  1.8%\n",
            "\u001b[1;36m[libx264 @ 0x55a650a0e500] \u001b[0mmb P  I16..4:  0.0%  0.0%  0.0%  P16..4:  0.3%  0.0%  0.0%  0.0%  0.0%    skip:99.7%\n",
            "\u001b[1;36m[libx264 @ 0x55a650a0e500] \u001b[0mmb B  I16..4:  0.0%  0.0%  0.0%  B16..8:  0.0%  0.0%  0.0%  direct: 0.0%  skip:100.0%\n",
            "\u001b[1;36m[libx264 @ 0x55a650a0e500] \u001b[0m8x8 transform intra:98.2%\n",
            "\u001b[1;36m[libx264 @ 0x55a650a0e500] \u001b[0mcoded y,uvDC,uvAC intra: 99.2% 82.2% 49.4% inter: 0.0% 0.1% 0.0%\n",
            "\u001b[1;36m[libx264 @ 0x55a650a0e500] \u001b[0mi8 v,h,dc,ddl,ddr,vr,hd,vl,hu:  9% 11% 34%  6%  7%  7%  8%  7% 10%\n",
            "\u001b[1;36m[libx264 @ 0x55a650a0e500] \u001b[0mi4 v,h,dc,ddl,ddr,vr,hd,vl,hu: 73%  3%  7%  2%  3%  1%  3%  3%  5%\n",
            "\u001b[1;36m[libx264 @ 0x55a650a0e500] \u001b[0mi8c dc,h,v,p: 46% 23% 18% 13%\n",
            "\u001b[1;36m[libx264 @ 0x55a650a0e500] \u001b[0mWeighted P-Frames: Y:0.0% UV:0.0%\n",
            "\u001b[1;36m[libx264 @ 0x55a650a0e500] \u001b[0mref P L0: 99.6%  0.0%  0.3%  0.1%\n",
            "\u001b[1;36m[libx264 @ 0x55a650a0e500] \u001b[0mkb/s:262.61\n"
          ],
          "name": "stdout"
        }
      ]
    },
    {
      "metadata": {
        "id": "W7VVNSYsZLrt",
        "colab_type": "code",
        "colab": {
          "base_uri": "https://localhost:8080/",
          "height": 265
        },
        "outputId": "1902acd3-5c75-4c27-8e6d-9f17df0e4260"
      },
      "cell_type": "code",
      "source": [
        "!ls -hl"
      ],
      "execution_count": 24,
      "outputs": [
        {
          "output_type": "stream",
          "text": [
            "total 25M\n",
            "-rw-r--r-- 1 root root 2.5K Sep 10 17:07 adc.json\n",
            "-rw-r--r-- 1 root root 288K Sep 10 16:51 bloom.jpg\n",
            "drwxr-xr-x 2 root root 4.0K Sep 10 17:07 drive\n",
            "-rw-r--r-- 1 root root 4.8M Jun  2  2017 IMSLP474372-PMLP02311-Nocturne_Op._15_no._1_in_F_major.mp3\n",
            "-rw-r--r-- 1 root root 4.8M Jun  2  2017 IMSLP474372-PMLP02311-Nocturne_Op._15_no._1_in_F_major.mp3.1\n",
            "-rw-r--r-- 1 root root  15M Sep 10 17:29 out.mp4\n",
            "drwxr-xr-x 2 root root 4.0K Sep  7 20:49 sample_data\n",
            "-rw-r--r-- 1 root root 1.1K Sep 10 16:45 wget-log\n",
            "-rw-r--r-- 1 root root 1.3K Sep 10 16:45 wget-log.1\n",
            "-rw-r--r-- 1 root root 1.1K Sep 10 16:51 wget-log.2\n",
            "-rw-r--r-- 1 root root 1.3K Sep 10 16:51 wget-log.3\n"
          ],
          "name": "stdout"
        }
      ]
    },
    {
      "metadata": {
        "id": "c8aMpDjyZ3iY",
        "colab_type": "code",
        "colab": {}
      },
      "cell_type": "code",
      "source": [
        "!cp out.mp4 drive/tmp/out.mp4"
      ],
      "execution_count": 0,
      "outputs": []
    },
    {
      "metadata": {
        "id": "DmPb8TIwf2LR",
        "colab_type": "code",
        "colab": {
          "base_uri": "https://localhost:8080/",
          "height": 55
        },
        "outputId": "38a71c41-65a8-494c-ee28-e2d9a7b1b996"
      },
      "cell_type": "code",
      "source": [
        "!wget http://ks.imslp.net/files/imglnks/usimg/1/13/IMSLP474373-PMLP02311-Nocturne_Op._15_No._2_in_F-sharp_major.mp3"
      ],
      "execution_count": 35,
      "outputs": [
        {
          "output_type": "stream",
          "text": [
            "\n",
            "Redirecting output to ‘wget-log.6’.\n"
          ],
          "name": "stdout"
        }
      ]
    },
    {
      "metadata": {
        "id": "FGQ9Oq-goFlG",
        "colab_type": "code",
        "colab": {
          "base_uri": "https://localhost:8080/",
          "height": 246
        },
        "outputId": "17bed1b4-5aeb-407d-8637-e44f6b9542b6"
      },
      "cell_type": "code",
      "source": [
        "!wget https://images.unsplash.com/photo-1499278758973-526e44fe17ac?ixlib=rb-0.3.5&q=80&fm=jpg&crop=entropy&cs=tinysrgb&w=1920&h=1080&fit=crop&ixid=eyJhcHBfaWQiOjF9&s=74760f6f07f04f169e25748df4686b11 \n",
        " "
      ],
      "execution_count": 29,
      "outputs": [
        {
          "output_type": "stream",
          "text": [
            "--2018-09-10 18:04:33--  https://images.unsplash.com/photo-1499278758973-526e44fe17ac?ixlib=rb-0.3.5\n",
            "Resolving images.unsplash.com (images.unsplash.com)... 151.101.0.188, 151.101.64.188, 151.101.128.188, ...\n",
            "Connecting to images.unsplash.com (images.unsplash.com)|151.101.0.188|:443... connected.\n",
            "HTTP request sent, awaiting response... 200 OK\n",
            "Length: 2556515 (2.4M) [image/jpeg]\n",
            "Saving to: ‘photo-1499278758973-526e44fe17ac?ixlib=rb-0.3.5.1’\n",
            "\n",
            "photo-1499278758973 100%[===================>]   2.44M  7.21MB/s    in 0.3s    \n",
            "\n",
            "2018-09-10 18:04:34 (7.21 MB/s) - ‘photo-1499278758973-526e44fe17ac?ixlib=rb-0.3.5.1’ saved [2556515/2556515]\n",
            "\n"
          ],
          "name": "stdout"
        }
      ]
    },
    {
      "metadata": {
        "id": "qo7-VIfwp2iS",
        "colab_type": "code",
        "colab": {}
      },
      "cell_type": "code",
      "source": [
        "!mv photo-1499278758973-526e44fe17ac\\?ixlib\\=rb-0.3.5 bloom2.jpg"
      ],
      "execution_count": 0,
      "outputs": []
    },
    {
      "metadata": {
        "id": "v4v6VhpZqH-N",
        "colab_type": "code",
        "colab": {
          "base_uri": "https://localhost:8080/",
          "height": 1405
        },
        "outputId": "dc400688-fc08-4df2-be0e-32fa5a06b59e"
      },
      "cell_type": "code",
      "source": [
        "!time ffmpeg -loop 1 -i bloom2.jpg -i IMSLP474373-PMLP02311-Nocturne_Op._15_No._2_in_F-sharp_major.mp3 -c:v libx264 -c:a copy -shortest out2.mp4"
      ],
      "execution_count": 43,
      "outputs": [
        {
          "output_type": "stream",
          "text": [
            "ffmpeg version 3.3.4-2 Copyright (c) 2000-2017 the FFmpeg developers\n",
            "  built with gcc 7 (Ubuntu 7.2.0-8ubuntu2)\n",
            "  configuration: --prefix=/usr --extra-version=2 --toolchain=hardened --libdir=/usr/lib/x86_64-linux-gnu --incdir=/usr/include/x86_64-linux-gnu --enable-gpl --disable-stripping --enable-avresample --enable-avisynth --enable-gnutls --enable-ladspa --enable-libass --enable-libbluray --enable-libbs2b --enable-libcaca --enable-libcdio --enable-libflite --enable-libfontconfig --enable-libfreetype --enable-libfribidi --enable-libgme --enable-libgsm --enable-libmp3lame --enable-libopenjpeg --enable-libopenmpt --enable-libopus --enable-libpulse --enable-librubberband --enable-libshine --enable-libsnappy --enable-libsoxr --enable-libspeex --enable-libssh --enable-libtheora --enable-libtwolame --enable-libvorbis --enable-libvpx --enable-libwavpack --enable-libwebp --enable-libx265 --enable-libxvid --enable-libzmq --enable-libzvbi --enable-omx --enable-openal --enable-opengl --enable-sdl2 --enable-libdc1394 --enable-libiec61883 --enable-chromaprint --enable-frei0r --enable-libopencv --enable-libx264 --enable-shared\n",
            "  libavutil      55. 58.100 / 55. 58.100\n",
            "  libavcodec     57. 89.100 / 57. 89.100\n",
            "  libavformat    57. 71.100 / 57. 71.100\n",
            "  libavdevice    57.  6.100 / 57.  6.100\n",
            "  libavfilter     6. 82.100 /  6. 82.100\n",
            "  libavresample   3.  5.  0 /  3.  5.  0\n",
            "  libswscale      4.  6.100 /  4.  6.100\n",
            "  libswresample   2.  7.100 /  2.  7.100\n",
            "  libpostproc    54.  5.100 / 54.  5.100\n",
            "Input #0, image2, from 'bloom2.jpg':\n",
            "  Duration: 00:00:00.04, start: 0.000000, bitrate: 511303 kb/s\n",
            "    Stream #0:0: Video: mjpeg, yuvj444p(pc, bt470bg/unknown/unknown), 3000x1987, 25 tbr, 25 tbn, 25 tbc\n",
            "Input #1, mp3, from 'IMSLP474373-PMLP02311-Nocturne_Op._15_No._2_in_F-sharp_major.mp3':\n",
            "  Metadata:\n",
            "    album           : Musopen: The Complete Works of Frédéric Chopin\n",
            "    album_artist    : Frédéric Chopin\n",
            "    genre           : Classical\n",
            "    title           : Nocturne Op.15 No.2 in F-sharp major\n",
            "    artist          : Luke Faulkner\n",
            "    major_brand     : M4A \n",
            "    minor_version   : 512\n",
            "    compatible_brands: isomiso2\n",
            "    track           : 0\n",
            "    date            : 0\n",
            "    lyrics          : \n",
            "    encoder         : Lavf55.1.100\n",
            "  Duration: 00:03:24.04, start: 0.025057, bitrate: 128 kb/s\n",
            "    Stream #1:0: Audio: mp3, 44100 Hz, stereo, s16p, 128 kb/s\n",
            "Stream mapping:\n",
            "  Stream #0:0 -> #0:0 (mjpeg (native) -> h264 (libx264))\n",
            "  Stream #1:0 -> #0:1 (copy)\n",
            "Press [q] to stop, [?] for help\n",
            "\u001b[0;33mNo pixel format specified, yuvj444p for H.264 encoding chosen.\n",
            "Use -pix_fmt yuv420p for compatibility with outdated media players.\n",
            "\u001b[0m\u001b[1;36m[libx264 @ 0x560fc11a6500] \u001b[0musing cpu capabilities: MMX2 SSE2Fast SSSE3 SSE4.2 AVX FMA3 AVX2 LZCNT BMI2\n",
            "\u001b[1;36m[libx264 @ 0x560fc11a6500] \u001b[0mprofile High 4:4:4 Predictive, level 5.1, 4:4:4 8-bit\n",
            "\u001b[1;36m[libx264 @ 0x560fc11a6500] \u001b[0m264 - core 148 r2795 aaa9aa8 - H.264/MPEG-4 AVC codec - Copyleft 2003-2017 - http://www.videolan.org/x264.html - options: cabac=1 ref=3 deblock=1:0:0 analyse=0x3:0x113 me=hex subme=7 psy=1 psy_rd=1.00:0.00 mixed_ref=1 me_range=16 chroma_me=1 trellis=1 8x8dct=1 cqm=0 deadzone=21,11 fast_pskip=1 chroma_qp_offset=4 threads=3 lookahead_threads=1 sliced_threads=0 nr=0 decimate=1 interlaced=0 bluray_compat=0 constrained_intra=0 bframes=3 b_pyramid=2 b_adapt=1 b_bias=0 direct=1 weightb=1 open_gop=0 weightp=2 keyint=250 keyint_min=25 scenecut=40 intra_refresh=0 rc_lookahead=40 rc=crf mbtree=1 crf=23.0 qcomp=0.60 qpmin=0 qpmax=69 qpstep=4 ip_ratio=1.40 aq=1:1.00\n",
            "Output #0, mp4, to 'out2.mp4':\n",
            "  Metadata:\n",
            "    encoder         : Lavf57.71.100\n",
            "    Stream #0:0: Video: h264 (libx264) ([33][0][0][0] / 0x0021), yuvj444p(pc), 3000x1987, q=-1--1, 25 fps, 12800 tbn, 25 tbc\n",
            "    Metadata:\n",
            "      encoder         : Lavc57.89.100 libx264\n",
            "    Side data:\n",
            "      cpb: bitrate max/min/avg: 0/0/0 buffer size: 0 vbv_delay: -1\n",
            "    Stream #0:1: Audio: mp3 (i[0][0][0] / 0x0069), 44100 Hz, stereo, s16p, 128 kb/s\n",
            "frame= 5150 fps=4.6 q=28.0 Lsize=   28144kB time=00:03:24.00 bitrate=1130.2kbits/s speed=0.18x    \n",
            "video:24769kB audio:3188kB subtitle:0kB other streams:0kB global headers:0kB muxing overhead: 0.670338%\n",
            "\u001b[1;36m[libx264 @ 0x560fc11a6500] \u001b[0mframe I:21    Avg QP:12.24  size:1151927\n",
            "\u001b[1;36m[libx264 @ 0x560fc11a6500] \u001b[0mframe P:1298  Avg QP:13.26  size:   388\n",
            "\u001b[1;36m[libx264 @ 0x560fc11a6500] \u001b[0mframe B:3831  Avg QP:27.33  size:   177\n",
            "\u001b[1;36m[libx264 @ 0x560fc11a6500] \u001b[0mconsecutive B-frames:  0.8%  0.0%  0.0% 99.2%\n",
            "\u001b[1;36m[libx264 @ 0x560fc11a6500] \u001b[0mmb I  I16..4:  5.6% 84.2% 10.2%\n",
            "\u001b[1;36m[libx264 @ 0x560fc11a6500] \u001b[0mmb P  I16..4:  0.0%  0.0%  0.0%  P16..4:  0.4%  0.0%  0.0%  0.0%  0.0%    skip:99.6%\n",
            "\u001b[1;36m[libx264 @ 0x560fc11a6500] \u001b[0mmb B  I16..4:  0.0%  0.0%  0.0%  B16..8:  0.0%  0.0%  0.0%  direct: 0.0%  skip:100.0%  L0:20.9% L1:79.1% BI: 0.0%\n",
            "\u001b[1;36m[libx264 @ 0x560fc11a6500] \u001b[0m8x8 transform intra:84.3% inter:99.7%\n",
            "\u001b[1;36m[libx264 @ 0x560fc11a6500] \u001b[0mcoded y,u,v intra: 98.7% 43.0% 52.5% inter: 0.0% 0.0% 0.0%\n",
            "\u001b[1;36m[libx264 @ 0x560fc11a6500] \u001b[0mi16 v,h,dc,p:  0%  0% 15% 85%\n",
            "\u001b[1;36m[libx264 @ 0x560fc11a6500] \u001b[0mi8 v,h,dc,ddl,ddr,vr,hd,vl,hu: 12% 13% 29%  7%  7%  7%  7%  7%  9%\n",
            "\u001b[1;36m[libx264 @ 0x560fc11a6500] \u001b[0mi4 v,h,dc,ddl,ddr,vr,hd,vl,hu: 14% 11% 13%  9% 13% 11% 11%  9% 10%\n",
            "\u001b[1;36m[libx264 @ 0x560fc11a6500] \u001b[0mWeighted P-Frames: Y:0.0% UV:0.0%\n",
            "\u001b[1;36m[libx264 @ 0x560fc11a6500] \u001b[0mref P L0: 94.0%  0.1%  3.8%  2.1%\n",
            "\u001b[1;36m[libx264 @ 0x560fc11a6500] \u001b[0mref B L0: 97.3%  2.4%  0.2%\n",
            "\u001b[1;36m[libx264 @ 0x560fc11a6500] \u001b[0mref B L1: 86.6% 13.4%\n",
            "\u001b[1;36m[libx264 @ 0x560fc11a6500] \u001b[0mkb/s:985.29\n",
            "\n",
            "real\t18m51.922s\n",
            "user\t36m27.387s\n",
            "sys\t0m13.828s\n"
          ],
          "name": "stdout"
        }
      ]
    },
    {
      "metadata": {
        "id": "TGXGMQjdq5ry",
        "colab_type": "code",
        "colab": {
          "base_uri": "https://localhost:8080/",
          "height": 207
        },
        "outputId": "6619f4ef-72f1-4bb2-96c2-354794d62004"
      },
      "cell_type": "code",
      "source": [
        "!ls\n"
      ],
      "execution_count": 44,
      "outputs": [
        {
          "output_type": "stream",
          "text": [
            "adc.json\n",
            "bloom2.jpg\n",
            "bloom.jpg\n",
            "drive\n",
            "IMSLP474372-PMLP02311-Nocturne_Op._15_no._1_in_F_major.mp3\n",
            "IMSLP474373-PMLP02311-Nocturne_Op._15_No._2_in_F-sharp_major.mp3\n",
            "in.mp3\n",
            "out2.mp4\n",
            "photo-1499278758973-526e44fe17ac?ixlib=rb-0.3.5.1\n",
            "sample_data\n"
          ],
          "name": "stdout"
        }
      ]
    },
    {
      "metadata": {
        "id": "g_PHttikraDY",
        "colab_type": "code",
        "colab": {}
      },
      "cell_type": "code",
      "source": [
        "!cp out2.mp4 drive/tmp/out2.mp4\n"
      ],
      "execution_count": 0,
      "outputs": []
    },
    {
      "metadata": {
        "id": "mSvy2lthrgRf",
        "colab_type": "code",
        "colab": {}
      },
      "cell_type": "code",
      "source": [
        ""
      ],
      "execution_count": 0,
      "outputs": []
    }
  ]
}